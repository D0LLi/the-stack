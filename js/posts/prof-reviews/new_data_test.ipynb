{
 "cells": [
  {
   "cell_type": "code",
   "execution_count": 1,
   "metadata": {},
   "outputs": [],
   "source": [
    "import pandas as pd"
   ]
  },
  {
   "cell_type": "code",
   "execution_count": 16,
   "metadata": {},
   "outputs": [
    {
     "name": "stdout",
     "output_type": "stream",
     "text": [
      "Index(['quarter_taken', 'year_taken', 'gender_guess', 'overall_rating',\n",
      "       'easiness_rating', 'workload_rating', 'clarity_rating',\n",
      "       'helpfulness_rating', 'pre_covid', 'pos_score', 'neg_score',\n",
      "       'review_is_positive', 'upper_div'],\n",
      "      dtype='object')\n"
     ]
    },
    {
     "data": {
      "text/html": [
       "<div>\n",
       "<style scoped>\n",
       "    .dataframe tbody tr th:only-of-type {\n",
       "        vertical-align: middle;\n",
       "    }\n",
       "\n",
       "    .dataframe tbody tr th {\n",
       "        vertical-align: top;\n",
       "    }\n",
       "\n",
       "    .dataframe thead th {\n",
       "        text-align: right;\n",
       "    }\n",
       "</style>\n",
       "<table border=\"1\" class=\"dataframe\">\n",
       "  <thead>\n",
       "    <tr style=\"text-align: right;\">\n",
       "      <th></th>\n",
       "      <th>quarter_taken</th>\n",
       "      <th>year_taken</th>\n",
       "      <th>gender_guess</th>\n",
       "      <th>overall_rating</th>\n",
       "      <th>easiness_rating</th>\n",
       "      <th>workload_rating</th>\n",
       "      <th>clarity_rating</th>\n",
       "      <th>helpfulness_rating</th>\n",
       "      <th>pre_covid</th>\n",
       "      <th>pos_score</th>\n",
       "      <th>neg_score</th>\n",
       "      <th>review_is_positive</th>\n",
       "      <th>upper_div</th>\n",
       "    </tr>\n",
       "  </thead>\n",
       "  <tbody>\n",
       "    <tr>\n",
       "      <th>122</th>\n",
       "      <td>WI</td>\n",
       "      <td>2021.0</td>\n",
       "      <td>Female</td>\n",
       "      <td>3.940520</td>\n",
       "      <td>3.488848</td>\n",
       "      <td>3.286245</td>\n",
       "      <td>3.836431</td>\n",
       "      <td>3.920074</td>\n",
       "      <td>0.0</td>\n",
       "      <td>0.173954</td>\n",
       "      <td>0.051041</td>\n",
       "      <td>0.860595</td>\n",
       "      <td>0.410781</td>\n",
       "    </tr>\n",
       "    <tr>\n",
       "      <th>123</th>\n",
       "      <td>WI</td>\n",
       "      <td>2021.0</td>\n",
       "      <td>Male</td>\n",
       "      <td>3.841845</td>\n",
       "      <td>3.142504</td>\n",
       "      <td>3.214992</td>\n",
       "      <td>3.759473</td>\n",
       "      <td>3.915980</td>\n",
       "      <td>0.0</td>\n",
       "      <td>0.171203</td>\n",
       "      <td>0.059877</td>\n",
       "      <td>0.827842</td>\n",
       "      <td>0.389621</td>\n",
       "    </tr>\n",
       "    <tr>\n",
       "      <th>124</th>\n",
       "      <td>WI</td>\n",
       "      <td>2021.0</td>\n",
       "      <td>Unsure</td>\n",
       "      <td>4.214286</td>\n",
       "      <td>3.428571</td>\n",
       "      <td>3.142857</td>\n",
       "      <td>4.142857</td>\n",
       "      <td>4.214286</td>\n",
       "      <td>0.0</td>\n",
       "      <td>0.197357</td>\n",
       "      <td>0.027643</td>\n",
       "      <td>0.928571</td>\n",
       "      <td>0.714286</td>\n",
       "    </tr>\n",
       "    <tr>\n",
       "      <th>125</th>\n",
       "      <td>WI</td>\n",
       "      <td>2022.0</td>\n",
       "      <td>Female</td>\n",
       "      <td>3.714286</td>\n",
       "      <td>3.142857</td>\n",
       "      <td>3.428571</td>\n",
       "      <td>3.714286</td>\n",
       "      <td>3.714286</td>\n",
       "      <td>0.0</td>\n",
       "      <td>0.218286</td>\n",
       "      <td>0.050714</td>\n",
       "      <td>0.714286</td>\n",
       "      <td>0.285714</td>\n",
       "    </tr>\n",
       "    <tr>\n",
       "      <th>126</th>\n",
       "      <td>WI</td>\n",
       "      <td>2022.0</td>\n",
       "      <td>Male</td>\n",
       "      <td>2.684211</td>\n",
       "      <td>2.526316</td>\n",
       "      <td>2.526316</td>\n",
       "      <td>2.526316</td>\n",
       "      <td>2.736842</td>\n",
       "      <td>0.0</td>\n",
       "      <td>0.129684</td>\n",
       "      <td>0.088211</td>\n",
       "      <td>0.473684</td>\n",
       "      <td>0.473684</td>\n",
       "    </tr>\n",
       "  </tbody>\n",
       "</table>\n",
       "</div>"
      ],
      "text/plain": [
       "    quarter_taken  year_taken gender_guess  overall_rating  easiness_rating  \\\n",
       "122            WI      2021.0       Female        3.940520         3.488848   \n",
       "123            WI      2021.0         Male        3.841845         3.142504   \n",
       "124            WI      2021.0       Unsure        4.214286         3.428571   \n",
       "125            WI      2022.0       Female        3.714286         3.142857   \n",
       "126            WI      2022.0         Male        2.684211         2.526316   \n",
       "\n",
       "     workload_rating  clarity_rating  helpfulness_rating  pre_covid  \\\n",
       "122         3.286245        3.836431            3.920074        0.0   \n",
       "123         3.214992        3.759473            3.915980        0.0   \n",
       "124         3.142857        4.142857            4.214286        0.0   \n",
       "125         3.428571        3.714286            3.714286        0.0   \n",
       "126         2.526316        2.526316            2.736842        0.0   \n",
       "\n",
       "     pos_score  neg_score  review_is_positive  upper_div  \n",
       "122   0.173954   0.051041            0.860595   0.410781  \n",
       "123   0.171203   0.059877            0.827842   0.389621  \n",
       "124   0.197357   0.027643            0.928571   0.714286  \n",
       "125   0.218286   0.050714            0.714286   0.285714  \n",
       "126   0.129684   0.088211            0.473684   0.473684  "
      ]
     },
     "execution_count": 16,
     "metadata": {},
     "output_type": "execute_result"
    }
   ],
   "source": [
    "data = pd.read_csv('C:/Users/tyler/the-stack/datasets/prof-reviews/prof_sentiment_by_qtr.csv')\n",
    "print(data.columns)\n",
    "data.tail() # earlier years have very little data (only 2013 onward)"
   ]
  },
  {
   "cell_type": "code",
   "execution_count": 17,
   "metadata": {},
   "outputs": [
    {
     "name": "stdout",
     "output_type": "stream",
     "text": [
      "(127, 13)\n",
      "(98, 13)\n"
     ]
    }
   ],
   "source": [
    "print(data.shape)\n",
    "data_filt = data.loc[data.gender_guess != 'Unsure',]\n",
    "print(data_filt.shape)"
   ]
  },
  {
   "cell_type": "code",
   "execution_count": 36,
   "metadata": {},
   "outputs": [
    {
     "name": "stdout",
     "output_type": "stream",
     "text": [
      "(72, 13)\n",
      "(72, 13)\n"
     ]
    },
    {
     "data": {
      "text/html": [
       "<div>\n",
       "<style scoped>\n",
       "    .dataframe tbody tr th:only-of-type {\n",
       "        vertical-align: middle;\n",
       "    }\n",
       "\n",
       "    .dataframe tbody tr th {\n",
       "        vertical-align: top;\n",
       "    }\n",
       "\n",
       "    .dataframe thead th {\n",
       "        text-align: right;\n",
       "    }\n",
       "</style>\n",
       "<table border=\"1\" class=\"dataframe\">\n",
       "  <thead>\n",
       "    <tr style=\"text-align: right;\">\n",
       "      <th></th>\n",
       "      <th>quarter_taken</th>\n",
       "      <th>year_taken</th>\n",
       "      <th>gender_guess</th>\n",
       "      <th>overall_rating</th>\n",
       "      <th>easiness_rating</th>\n",
       "      <th>workload_rating</th>\n",
       "      <th>clarity_rating</th>\n",
       "      <th>helpfulness_rating</th>\n",
       "      <th>pre_covid</th>\n",
       "      <th>pos_score</th>\n",
       "      <th>neg_score</th>\n",
       "      <th>review_is_positive</th>\n",
       "      <th>upper_div</th>\n",
       "    </tr>\n",
       "  </thead>\n",
       "  <tbody>\n",
       "    <tr>\n",
       "      <th>8</th>\n",
       "      <td>FA</td>\n",
       "      <td>2013.0</td>\n",
       "      <td>Female</td>\n",
       "      <td>4.333333</td>\n",
       "      <td>3.333333</td>\n",
       "      <td>3.333333</td>\n",
       "      <td>4.333333</td>\n",
       "      <td>4.333333</td>\n",
       "      <td>1.000000</td>\n",
       "      <td>0.339167</td>\n",
       "      <td>0.011167</td>\n",
       "      <td>1.000000</td>\n",
       "      <td>0.666667</td>\n",
       "    </tr>\n",
       "    <tr>\n",
       "      <th>9</th>\n",
       "      <td>FA</td>\n",
       "      <td>2013.0</td>\n",
       "      <td>Male</td>\n",
       "      <td>3.625000</td>\n",
       "      <td>2.812500</td>\n",
       "      <td>3.000000</td>\n",
       "      <td>3.687500</td>\n",
       "      <td>3.625000</td>\n",
       "      <td>1.000000</td>\n",
       "      <td>0.198563</td>\n",
       "      <td>0.049688</td>\n",
       "      <td>0.875000</td>\n",
       "      <td>0.187500</td>\n",
       "    </tr>\n",
       "    <tr>\n",
       "      <th>10</th>\n",
       "      <td>FA</td>\n",
       "      <td>2014.0</td>\n",
       "      <td>Female</td>\n",
       "      <td>3.882353</td>\n",
       "      <td>3.411765</td>\n",
       "      <td>3.352941</td>\n",
       "      <td>3.823529</td>\n",
       "      <td>3.882353</td>\n",
       "      <td>0.941176</td>\n",
       "      <td>0.162235</td>\n",
       "      <td>0.036000</td>\n",
       "      <td>0.764706</td>\n",
       "      <td>0.235294</td>\n",
       "    </tr>\n",
       "    <tr>\n",
       "      <th>11</th>\n",
       "      <td>FA</td>\n",
       "      <td>2014.0</td>\n",
       "      <td>Male</td>\n",
       "      <td>3.947368</td>\n",
       "      <td>3.263158</td>\n",
       "      <td>3.131579</td>\n",
       "      <td>3.763158</td>\n",
       "      <td>3.657895</td>\n",
       "      <td>0.973684</td>\n",
       "      <td>0.180974</td>\n",
       "      <td>0.046316</td>\n",
       "      <td>0.842105</td>\n",
       "      <td>0.421053</td>\n",
       "    </tr>\n",
       "    <tr>\n",
       "      <th>13</th>\n",
       "      <td>FA</td>\n",
       "      <td>2015.0</td>\n",
       "      <td>Female</td>\n",
       "      <td>3.887574</td>\n",
       "      <td>3.242604</td>\n",
       "      <td>3.059172</td>\n",
       "      <td>3.923077</td>\n",
       "      <td>3.917160</td>\n",
       "      <td>0.994083</td>\n",
       "      <td>0.170130</td>\n",
       "      <td>0.046231</td>\n",
       "      <td>0.828402</td>\n",
       "      <td>0.266272</td>\n",
       "    </tr>\n",
       "  </tbody>\n",
       "</table>\n",
       "</div>"
      ],
      "text/plain": [
       "   quarter_taken  year_taken gender_guess  overall_rating  easiness_rating  \\\n",
       "8             FA      2013.0       Female        4.333333         3.333333   \n",
       "9             FA      2013.0         Male        3.625000         2.812500   \n",
       "10            FA      2014.0       Female        3.882353         3.411765   \n",
       "11            FA      2014.0         Male        3.947368         3.263158   \n",
       "13            FA      2015.0       Female        3.887574         3.242604   \n",
       "\n",
       "    workload_rating  clarity_rating  helpfulness_rating  pre_covid  pos_score  \\\n",
       "8          3.333333        4.333333            4.333333   1.000000   0.339167   \n",
       "9          3.000000        3.687500            3.625000   1.000000   0.198563   \n",
       "10         3.352941        3.823529            3.882353   0.941176   0.162235   \n",
       "11         3.131579        3.763158            3.657895   0.973684   0.180974   \n",
       "13         3.059172        3.923077            3.917160   0.994083   0.170130   \n",
       "\n",
       "    neg_score  review_is_positive  upper_div  \n",
       "8    0.011167            1.000000   0.666667  \n",
       "9    0.049688            0.875000   0.187500  \n",
       "10   0.036000            0.764706   0.235294  \n",
       "11   0.046316            0.842105   0.421053  \n",
       "13   0.046231            0.828402   0.266272  "
      ]
     },
     "execution_count": 36,
     "metadata": {},
     "output_type": "execute_result"
    }
   ],
   "source": [
    "print(data_filt.shape)\n",
    "data_filt = data_filt.loc[data.year_taken >= 2013,]\n",
    "print(data_filt.shape)\n",
    "data_filt.head()"
   ]
  },
  {
   "cell_type": "code",
   "execution_count": 46,
   "metadata": {},
   "outputs": [],
   "source": [
    "quarters = data.quarter_taken.unique()\n",
    "numbers = [1,3,4,2]"
   ]
  },
  {
   "cell_type": "code",
   "execution_count": 47,
   "metadata": {},
   "outputs": [
    {
     "data": {
      "text/plain": [
       "{'FA': 1, 'SP': 3, 'SU': 4, 'WI': 2}"
      ]
     },
     "execution_count": 47,
     "metadata": {},
     "output_type": "execute_result"
    }
   ],
   "source": [
    "qtr_map = {quarters[i]: numbers[i] for i in range(len(quarters))}\n",
    "qtr_map"
   ]
  },
  {
   "cell_type": "code",
   "execution_count": 51,
   "metadata": {},
   "outputs": [],
   "source": [
    "data_filt = data_filt.replace({\"quarter_taken\": qtr_map})"
   ]
  },
  {
   "cell_type": "code",
   "execution_count": 58,
   "metadata": {},
   "outputs": [],
   "source": [
    "data_filt['time_taken'] = data_filt['year_taken'].astype(int).astype(str) + '_' + data_filt['quarter_taken'].astype(str)\n",
    "data_filt.to_csv('C:/Users/tyler/the-stack/datasets/prof-reviews/prof_sentiment_by_qtr_filt.csv',index=False)"
   ]
  }
 ],
 "metadata": {
  "interpreter": {
   "hash": "16e3b9799879e24d92f4a6010a8e3548b08661ef551ca0704bdd958592137b13"
  },
  "kernelspec": {
   "display_name": "Python 3.10.1 64-bit",
   "language": "python",
   "name": "python3"
  },
  "language_info": {
   "codemirror_mode": {
    "name": "ipython",
    "version": 3
   },
   "file_extension": ".py",
   "mimetype": "text/x-python",
   "name": "python",
   "nbconvert_exporter": "python",
   "pygments_lexer": "ipython3",
   "version": "3.10.1"
  },
  "orig_nbformat": 4
 },
 "nbformat": 4,
 "nbformat_minor": 2
}
